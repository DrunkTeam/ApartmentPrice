{
 "cells": [
  {
   "cell_type": "code",
   "execution_count": 49,
   "metadata": {},
   "outputs": [],
   "source": [
    "import great_expectations as gx\n",
    "import pandas as pd\n",
    "from great_expectations.data_context import FileDataContext\n",
    "from great_expectations.dataset.pandas_dataset import PandasDataset"
   ]
  },
  {
   "attachments": {},
   "cell_type": "markdown",
   "metadata": {},
   "source": [
    "## Create data context"
   ]
  },
  {
   "cell_type": "code",
   "execution_count": 50,
   "metadata": {},
   "outputs": [],
   "source": [
    "context = FileDataContext(project_root_dir=\"../services\")"
   ]
  },
  {
   "attachments": {},
   "cell_type": "markdown",
   "metadata": {},
   "source": [
    "## Create data source"
   ]
  },
  {
   "cell_type": "code",
   "execution_count": 51,
   "metadata": {},
   "outputs": [
    {
     "data": {
      "text/plain": [
       "PandasDatasource(type='pandas', name='my_pandas_ds', id=None, assets=[])"
      ]
     },
     "execution_count": 51,
     "metadata": {},
     "output_type": "execute_result"
    }
   ],
   "source": [
    "ds1 = context.sources.add_or_update_pandas(name=\"my_pandas_ds\")\n",
    "ds1"
   ]
  },
  {
   "attachments": {},
   "cell_type": "markdown",
   "metadata": {},
   "source": [
    "## Create data assets"
   ]
  },
  {
   "cell_type": "code",
   "execution_count": 52,
   "metadata": {},
   "outputs": [],
   "source": [
    "da1 = ds1.add_csv_asset(\n",
    "    name = \"asset01\",\n",
    "    filepath_or_buffer=\"../data/raw/Equity_Apartments_Data.csv\"\n",
    ")"
   ]
  },
  {
   "cell_type": "code",
   "execution_count": 53,
   "metadata": {},
   "outputs": [
    {
     "name": "stdout",
     "output_type": "stream",
     "text": [
      "{'reader_method': 'read_csv', 'reader_options': {'filepath_or_buffer': PosixPath('../data/raw/Equity_Apartments_Data.csv')}}\n"
     ]
    }
   ],
   "source": [
    "batch_request = da1.build_batch_request()\n",
    "batches = da1.get_batch_list_from_batch_request(batch_request)\n",
    "for batch in batches:\n",
    "    print(batch.batch_spec)"
   ]
  },
  {
   "attachments": {},
   "cell_type": "markdown",
   "metadata": {},
   "source": [
    "## Create expectations"
   ]
  },
  {
   "cell_type": "code",
   "execution_count": 54,
   "metadata": {},
   "outputs": [
    {
     "data": {
      "text/plain": [
       "{\n",
       "  \"expectation_suite_name\": \"my_expectation_suite\",\n",
       "  \"ge_cloud_id\": null,\n",
       "  \"expectations\": [],\n",
       "  \"data_asset_type\": null,\n",
       "  \"meta\": {\n",
       "    \"great_expectations_version\": \"0.18.15\"\n",
       "  }\n",
       "}"
      ]
     },
     "execution_count": 54,
     "metadata": {},
     "output_type": "execute_result"
    }
   ],
   "source": [
    "context.add_or_update_expectation_suite(\"my_expectation_suite\")"
   ]
  },
  {
   "cell_type": "code",
   "execution_count": 55,
   "metadata": {},
   "outputs": [],
   "source": [
    "validator = context.get_validator(\n",
    "    batch_request=batch_request,\n",
    "    expectation_suite_name=\"my_expectation_suite\"\n",
    ")"
   ]
  },
  {
   "cell_type": "code",
   "execution_count": 56,
   "metadata": {},
   "outputs": [
    {
     "data": {
      "application/vnd.jupyter.widget-view+json": {
       "model_id": "2604b6f4678540eb84c0658feebe7548",
       "version_major": 2,
       "version_minor": 0
      },
      "text/plain": [
       "Calculating Metrics:   0%|          | 0/1 [00:00<?, ?it/s]"
      ]
     },
     "metadata": {},
     "output_type": "display_data"
    },
    {
     "data": {
      "text/html": [
       "<div>\n",
       "<style scoped>\n",
       "    .dataframe tbody tr th:only-of-type {\n",
       "        vertical-align: middle;\n",
       "    }\n",
       "\n",
       "    .dataframe tbody tr th {\n",
       "        vertical-align: top;\n",
       "    }\n",
       "\n",
       "    .dataframe thead th {\n",
       "        text-align: right;\n",
       "    }\n",
       "</style>\n",
       "<table border=\"1\" class=\"dataframe\">\n",
       "  <thead>\n",
       "    <tr style=\"text-align: right;\">\n",
       "      <th></th>\n",
       "      <th>Unnamed: 0</th>\n",
       "      <th>Price</th>\n",
       "      <th>Beds</th>\n",
       "      <th>Baths</th>\n",
       "      <th>sq.ft</th>\n",
       "      <th>Floor</th>\n",
       "      <th>Move_in_date</th>\n",
       "      <th>building_id</th>\n",
       "      <th>unit_id</th>\n",
       "      <th>URL</th>\n",
       "      <th>...</th>\n",
       "      <th>Fireplace</th>\n",
       "      <th>City_Skyline</th>\n",
       "      <th>Kitchen_Island</th>\n",
       "      <th>Stainless_Appliances</th>\n",
       "      <th>Renovated</th>\n",
       "      <th>Office_Space</th>\n",
       "      <th>Days_Till_Available</th>\n",
       "      <th>Day_of_the_week_recorded</th>\n",
       "      <th>Unique_ID</th>\n",
       "      <th>Estiamted_Vacancy</th>\n",
       "    </tr>\n",
       "  </thead>\n",
       "  <tbody>\n",
       "    <tr>\n",
       "      <th>0</th>\n",
       "      <td>1</td>\n",
       "      <td>2377</td>\n",
       "      <td>0</td>\n",
       "      <td>1.0</td>\n",
       "      <td>523</td>\n",
       "      <td>5</td>\n",
       "      <td>2021-09-02</td>\n",
       "      <td>01</td>\n",
       "      <td>0507</td>\n",
       "      <td>https://www.equityapartments.com/washington-dc...</td>\n",
       "      <td>...</td>\n",
       "      <td>0.0</td>\n",
       "      <td>0.0</td>\n",
       "      <td>0.0</td>\n",
       "      <td>1.0</td>\n",
       "      <td>1.0</td>\n",
       "      <td>0.0</td>\n",
       "      <td>47.0</td>\n",
       "      <td>Wednesday</td>\n",
       "      <td>0105071210MassApartments</td>\n",
       "      <td>0.020833</td>\n",
       "    </tr>\n",
       "    <tr>\n",
       "      <th>1</th>\n",
       "      <td>2</td>\n",
       "      <td>2816</td>\n",
       "      <td>1</td>\n",
       "      <td>1.0</td>\n",
       "      <td>713</td>\n",
       "      <td>2</td>\n",
       "      <td>2021-09-13</td>\n",
       "      <td>01</td>\n",
       "      <td>0204</td>\n",
       "      <td>https://www.equityapartments.com/washington-dc...</td>\n",
       "      <td>...</td>\n",
       "      <td>0.0</td>\n",
       "      <td>0.0</td>\n",
       "      <td>0.0</td>\n",
       "      <td>1.0</td>\n",
       "      <td>1.0</td>\n",
       "      <td>0.0</td>\n",
       "      <td>58.0</td>\n",
       "      <td>Wednesday</td>\n",
       "      <td>0102041210MassApartments</td>\n",
       "      <td>0.020833</td>\n",
       "    </tr>\n",
       "    <tr>\n",
       "      <th>2</th>\n",
       "      <td>3</td>\n",
       "      <td>3811</td>\n",
       "      <td>2</td>\n",
       "      <td>2.0</td>\n",
       "      <td>1252</td>\n",
       "      <td>6</td>\n",
       "      <td>2021-10-08</td>\n",
       "      <td>01</td>\n",
       "      <td>0608</td>\n",
       "      <td>https://www.equityapartments.com/washington-dc...</td>\n",
       "      <td>...</td>\n",
       "      <td>1.0</td>\n",
       "      <td>0.0</td>\n",
       "      <td>0.0</td>\n",
       "      <td>0.0</td>\n",
       "      <td>0.0</td>\n",
       "      <td>0.0</td>\n",
       "      <td>83.0</td>\n",
       "      <td>Wednesday</td>\n",
       "      <td>0106081210MassApartments</td>\n",
       "      <td>0.020833</td>\n",
       "    </tr>\n",
       "    <tr>\n",
       "      <th>3</th>\n",
       "      <td>4</td>\n",
       "      <td>1549</td>\n",
       "      <td>0</td>\n",
       "      <td>1.0</td>\n",
       "      <td>456</td>\n",
       "      <td>2</td>\n",
       "      <td>2021-09-17</td>\n",
       "      <td>1</td>\n",
       "      <td>256 \\r\\n</td>\n",
       "      <td>https://www.equityapartments.com/washington-dc...</td>\n",
       "      <td>...</td>\n",
       "      <td>0.0</td>\n",
       "      <td>0.0</td>\n",
       "      <td>0.0</td>\n",
       "      <td>0.0</td>\n",
       "      <td>0.0</td>\n",
       "      <td>0.0</td>\n",
       "      <td>62.0</td>\n",
       "      <td>Wednesday</td>\n",
       "      <td>1256\\r\\n1500MassApartments</td>\n",
       "      <td>0.003597</td>\n",
       "    </tr>\n",
       "    <tr>\n",
       "      <th>4</th>\n",
       "      <td>5</td>\n",
       "      <td>1753</td>\n",
       "      <td>1</td>\n",
       "      <td>1.0</td>\n",
       "      <td>580</td>\n",
       "      <td>3</td>\n",
       "      <td>2021-10-05</td>\n",
       "      <td>1</td>\n",
       "      <td>337 \\r\\n</td>\n",
       "      <td>https://www.equityapartments.com/washington-dc...</td>\n",
       "      <td>...</td>\n",
       "      <td>0.0</td>\n",
       "      <td>0.0</td>\n",
       "      <td>0.0</td>\n",
       "      <td>0.0</td>\n",
       "      <td>0.0</td>\n",
       "      <td>0.0</td>\n",
       "      <td>80.0</td>\n",
       "      <td>Wednesday</td>\n",
       "      <td>1337\\r\\n1500MassApartments</td>\n",
       "      <td>0.003597</td>\n",
       "    </tr>\n",
       "  </tbody>\n",
       "</table>\n",
       "<p>5 rows × 32 columns</p>\n",
       "</div>"
      ],
      "text/plain": [
       "   Unnamed: 0  Price  Beds  Baths  sq.ft  Floor Move_in_date building_id  \\\n",
       "0           1   2377     0    1.0    523      5   2021-09-02          01   \n",
       "1           2   2816     1    1.0    713      2   2021-09-13          01   \n",
       "2           3   3811     2    2.0   1252      6   2021-10-08          01   \n",
       "3           4   1549     0    1.0    456      2   2021-09-17           1   \n",
       "4           5   1753     1    1.0    580      3   2021-10-05           1   \n",
       "\n",
       "    unit_id                                                URL  ... Fireplace  \\\n",
       "0      0507  https://www.equityapartments.com/washington-dc...  ...       0.0   \n",
       "1      0204  https://www.equityapartments.com/washington-dc...  ...       0.0   \n",
       "2      0608  https://www.equityapartments.com/washington-dc...  ...       1.0   \n",
       "3  256 \\r\\n  https://www.equityapartments.com/washington-dc...  ...       0.0   \n",
       "4  337 \\r\\n  https://www.equityapartments.com/washington-dc...  ...       0.0   \n",
       "\n",
       "  City_Skyline Kitchen_Island Stainless_Appliances Renovated  Office_Space  \\\n",
       "0          0.0            0.0                  1.0       1.0           0.0   \n",
       "1          0.0            0.0                  1.0       1.0           0.0   \n",
       "2          0.0            0.0                  0.0       0.0           0.0   \n",
       "3          0.0            0.0                  0.0       0.0           0.0   \n",
       "4          0.0            0.0                  0.0       0.0           0.0   \n",
       "\n",
       "   Days_Till_Available  Day_of_the_week_recorded                   Unique_ID  \\\n",
       "0                 47.0                 Wednesday    0105071210MassApartments   \n",
       "1                 58.0                 Wednesday    0102041210MassApartments   \n",
       "2                 83.0                 Wednesday    0106081210MassApartments   \n",
       "3                 62.0                 Wednesday  1256\\r\\n1500MassApartments   \n",
       "4                 80.0                 Wednesday  1337\\r\\n1500MassApartments   \n",
       "\n",
       "   Estiamted_Vacancy  \n",
       "0           0.020833  \n",
       "1           0.020833  \n",
       "2           0.020833  \n",
       "3           0.003597  \n",
       "4           0.003597  \n",
       "\n",
       "[5 rows x 32 columns]"
      ]
     },
     "execution_count": 56,
     "metadata": {},
     "output_type": "execute_result"
    }
   ],
   "source": [
    "validator.head()"
   ]
  },
  {
   "attachments": {},
   "cell_type": "markdown",
   "metadata": {},
   "source": [
    "#### Expectation for column Price\n"
   ]
  },
  {
   "cell_type": "code",
   "execution_count": 57,
   "metadata": {},
   "outputs": [
    {
     "data": {
      "application/vnd.jupyter.widget-view+json": {
       "model_id": "36a46db7b6124fe588ad70014fc709ef",
       "version_major": 2,
       "version_minor": 0
      },
      "text/plain": [
       "Calculating Metrics:   0%|          | 0/8 [00:00<?, ?it/s]"
      ]
     },
     "metadata": {},
     "output_type": "display_data"
    },
    {
     "data": {
      "application/vnd.jupyter.widget-view+json": {
       "model_id": "fcf2006b969e4133b8bb054cb369f4b5",
       "version_major": 2,
       "version_minor": 0
      },
      "text/plain": [
       "Calculating Metrics:   0%|          | 0/6 [00:00<?, ?it/s]"
      ]
     },
     "metadata": {},
     "output_type": "display_data"
    },
    {
     "data": {
      "application/vnd.jupyter.widget-view+json": {
       "model_id": "3fcea274fcbd4a10aa38cb89d2cfee07",
       "version_major": 2,
       "version_minor": 0
      },
      "text/plain": [
       "Calculating Metrics:   0%|          | 0/1 [00:00<?, ?it/s]"
      ]
     },
     "metadata": {},
     "output_type": "display_data"
    },
    {
     "data": {
      "text/plain": [
       "{\n",
       "  \"success\": true,\n",
       "  \"result\": {\n",
       "    \"observed_value\": \"int64\"\n",
       "  },\n",
       "  \"meta\": {},\n",
       "  \"exception_info\": {\n",
       "    \"raised_exception\": false,\n",
       "    \"exception_traceback\": null,\n",
       "    \"exception_message\": null\n",
       "  }\n",
       "}"
      ]
     },
     "execution_count": 57,
     "metadata": {},
     "output_type": "execute_result"
    }
   ],
   "source": [
    "validator.expect_column_values_to_be_between(column=\"Price\", min_value=0)\n",
    "validator.expect_column_values_to_not_be_null(column=\"Price\")\n",
    "validator.expect_column_values_to_be_of_type(column=\"Price\", type_=\"int\")"
   ]
  },
  {
   "attachments": {},
   "cell_type": "markdown",
   "metadata": {},
   "source": [
    "#### Expectation for column Beds"
   ]
  },
  {
   "cell_type": "code",
   "execution_count": 58,
   "metadata": {},
   "outputs": [
    {
     "data": {
      "application/vnd.jupyter.widget-view+json": {
       "model_id": "163dd3fe64e94084bf35d62861c6e1be",
       "version_major": 2,
       "version_minor": 0
      },
      "text/plain": [
       "Calculating Metrics:   0%|          | 0/8 [00:00<?, ?it/s]"
      ]
     },
     "metadata": {},
     "output_type": "display_data"
    },
    {
     "data": {
      "application/vnd.jupyter.widget-view+json": {
       "model_id": "6c326aea79a448aaa732c8e3b76a8b2a",
       "version_major": 2,
       "version_minor": 0
      },
      "text/plain": [
       "Calculating Metrics:   0%|          | 0/6 [00:00<?, ?it/s]"
      ]
     },
     "metadata": {},
     "output_type": "display_data"
    },
    {
     "data": {
      "application/vnd.jupyter.widget-view+json": {
       "model_id": "558231f1de8d4ee79be0626092307188",
       "version_major": 2,
       "version_minor": 0
      },
      "text/plain": [
       "Calculating Metrics:   0%|          | 0/8 [00:00<?, ?it/s]"
      ]
     },
     "metadata": {},
     "output_type": "display_data"
    },
    {
     "data": {
      "text/plain": [
       "{\n",
       "  \"success\": true,\n",
       "  \"result\": {\n",
       "    \"element_count\": 62810,\n",
       "    \"unexpected_count\": 0,\n",
       "    \"unexpected_percent\": 0.0,\n",
       "    \"partial_unexpected_list\": [],\n",
       "    \"missing_count\": 0,\n",
       "    \"missing_percent\": 0.0,\n",
       "    \"unexpected_percent_total\": 0.0,\n",
       "    \"unexpected_percent_nonmissing\": 0.0\n",
       "  },\n",
       "  \"meta\": {},\n",
       "  \"exception_info\": {\n",
       "    \"raised_exception\": false,\n",
       "    \"exception_traceback\": null,\n",
       "    \"exception_message\": null\n",
       "  }\n",
       "}"
      ]
     },
     "execution_count": 58,
     "metadata": {},
     "output_type": "execute_result"
    }
   ],
   "source": [
    "validator.expect_column_values_to_be_between(column=\"Beds\", min_value=0, max_value=10)\n",
    "validator.expect_column_values_to_not_be_null(column=\"Beds\")\n",
    "validator.expect_column_values_to_match_regex(column=\"Beds\", regex=\"^\\d+$\")"
   ]
  },
  {
   "attachments": {},
   "cell_type": "markdown",
   "metadata": {},
   "source": [
    "#### Expectation for column Baths"
   ]
  },
  {
   "cell_type": "code",
   "execution_count": 59,
   "metadata": {},
   "outputs": [
    {
     "data": {
      "application/vnd.jupyter.widget-view+json": {
       "model_id": "12d7d626973a425abc09decbb51c06e3",
       "version_major": 2,
       "version_minor": 0
      },
      "text/plain": [
       "Calculating Metrics:   0%|          | 0/8 [00:00<?, ?it/s]"
      ]
     },
     "metadata": {},
     "output_type": "display_data"
    },
    {
     "data": {
      "application/vnd.jupyter.widget-view+json": {
       "model_id": "ed869a17cc944e51822e1633267d1132",
       "version_major": 2,
       "version_minor": 0
      },
      "text/plain": [
       "Calculating Metrics:   0%|          | 0/6 [00:00<?, ?it/s]"
      ]
     },
     "metadata": {},
     "output_type": "display_data"
    },
    {
     "data": {
      "application/vnd.jupyter.widget-view+json": {
       "model_id": "d7719c771b474954ba3581c0da0ee5f5",
       "version_major": 2,
       "version_minor": 0
      },
      "text/plain": [
       "Calculating Metrics:   0%|          | 0/8 [00:00<?, ?it/s]"
      ]
     },
     "metadata": {},
     "output_type": "display_data"
    },
    {
     "data": {
      "text/plain": [
       "{\n",
       "  \"success\": false,\n",
       "  \"result\": {\n",
       "    \"element_count\": 62810,\n",
       "    \"unexpected_count\": 62810,\n",
       "    \"unexpected_percent\": 100.0,\n",
       "    \"partial_unexpected_list\": [\n",
       "      1.0,\n",
       "      1.0,\n",
       "      2.0,\n",
       "      1.0,\n",
       "      1.0,\n",
       "      1.0,\n",
       "      1.0,\n",
       "      1.0,\n",
       "      1.0,\n",
       "      1.0,\n",
       "      1.0,\n",
       "      1.0,\n",
       "      1.0,\n",
       "      2.0,\n",
       "      1.0,\n",
       "      1.0,\n",
       "      2.0,\n",
       "      1.0,\n",
       "      1.0,\n",
       "      2.0\n",
       "    ],\n",
       "    \"missing_count\": 0,\n",
       "    \"missing_percent\": 0.0,\n",
       "    \"unexpected_percent_total\": 100.0,\n",
       "    \"unexpected_percent_nonmissing\": 100.0\n",
       "  },\n",
       "  \"meta\": {},\n",
       "  \"exception_info\": {\n",
       "    \"raised_exception\": false,\n",
       "    \"exception_traceback\": null,\n",
       "    \"exception_message\": null\n",
       "  }\n",
       "}"
      ]
     },
     "execution_count": 59,
     "metadata": {},
     "output_type": "execute_result"
    }
   ],
   "source": [
    "validator.expect_column_values_to_be_between(column=\"Baths\", min_value=0, max_value=10)\n",
    "validator.expect_column_values_to_not_be_null(column=\"Baths\")\n",
    "validator.expect_column_values_to_match_regex(column=\"Baths\", regex=\"^\\d+$\")\n"
   ]
  },
  {
   "attachments": {},
   "cell_type": "markdown",
   "metadata": {},
   "source": [
    "#### Expectation for column sq.ft"
   ]
  },
  {
   "cell_type": "code",
   "execution_count": 60,
   "metadata": {},
   "outputs": [
    {
     "data": {
      "application/vnd.jupyter.widget-view+json": {
       "model_id": "66fb2170c6cf4d0794865a8b33355414",
       "version_major": 2,
       "version_minor": 0
      },
      "text/plain": [
       "Calculating Metrics:   0%|          | 0/8 [00:00<?, ?it/s]"
      ]
     },
     "metadata": {},
     "output_type": "display_data"
    },
    {
     "data": {
      "application/vnd.jupyter.widget-view+json": {
       "model_id": "eefd22dce0914549a6a6bb06a553426f",
       "version_major": 2,
       "version_minor": 0
      },
      "text/plain": [
       "Calculating Metrics:   0%|          | 0/6 [00:00<?, ?it/s]"
      ]
     },
     "metadata": {},
     "output_type": "display_data"
    },
    {
     "data": {
      "application/vnd.jupyter.widget-view+json": {
       "model_id": "9d2ade9a3e614c4f897b52aba771fc79",
       "version_major": 2,
       "version_minor": 0
      },
      "text/plain": [
       "Calculating Metrics:   0%|          | 0/8 [00:00<?, ?it/s]"
      ]
     },
     "metadata": {},
     "output_type": "display_data"
    },
    {
     "data": {
      "text/plain": [
       "{\n",
       "  \"success\": true,\n",
       "  \"result\": {\n",
       "    \"element_count\": 62810,\n",
       "    \"unexpected_count\": 0,\n",
       "    \"unexpected_percent\": 0.0,\n",
       "    \"partial_unexpected_list\": [],\n",
       "    \"missing_count\": 0,\n",
       "    \"missing_percent\": 0.0,\n",
       "    \"unexpected_percent_total\": 0.0,\n",
       "    \"unexpected_percent_nonmissing\": 0.0\n",
       "  },\n",
       "  \"meta\": {},\n",
       "  \"exception_info\": {\n",
       "    \"raised_exception\": false,\n",
       "    \"exception_traceback\": null,\n",
       "    \"exception_message\": null\n",
       "  }\n",
       "}"
      ]
     },
     "execution_count": 60,
     "metadata": {},
     "output_type": "execute_result"
    }
   ],
   "source": [
    "validator.expect_column_values_to_be_between(column=\"sq.ft\", min_value=0)\n",
    "validator.expect_column_values_to_not_be_null(column=\"sq.ft\")\n",
    "validator.expect_column_values_to_match_regex(column=\"sq.ft\", regex=\"^\\d+(\\.\\d{1})?$\")"
   ]
  },
  {
   "attachments": {},
   "cell_type": "markdown",
   "metadata": {},
   "source": [
    "#### Expectation for column Floor"
   ]
  },
  {
   "cell_type": "code",
   "execution_count": 61,
   "metadata": {},
   "outputs": [
    {
     "data": {
      "application/vnd.jupyter.widget-view+json": {
       "model_id": "b6ba70dc00cc41b8b8737c7052a985f4",
       "version_major": 2,
       "version_minor": 0
      },
      "text/plain": [
       "Calculating Metrics:   0%|          | 0/8 [00:00<?, ?it/s]"
      ]
     },
     "metadata": {},
     "output_type": "display_data"
    },
    {
     "data": {
      "application/vnd.jupyter.widget-view+json": {
       "model_id": "a9dd30e10657401eaa68e0143ff386b1",
       "version_major": 2,
       "version_minor": 0
      },
      "text/plain": [
       "Calculating Metrics:   0%|          | 0/6 [00:00<?, ?it/s]"
      ]
     },
     "metadata": {},
     "output_type": "display_data"
    },
    {
     "data": {
      "application/vnd.jupyter.widget-view+json": {
       "model_id": "4adfb64108ca403db470c93e040b40aa",
       "version_major": 2,
       "version_minor": 0
      },
      "text/plain": [
       "Calculating Metrics:   0%|          | 0/8 [00:00<?, ?it/s]"
      ]
     },
     "metadata": {},
     "output_type": "display_data"
    },
    {
     "data": {
      "text/plain": [
       "{\n",
       "  \"success\": true,\n",
       "  \"result\": {\n",
       "    \"element_count\": 62810,\n",
       "    \"unexpected_count\": 0,\n",
       "    \"unexpected_percent\": 0.0,\n",
       "    \"partial_unexpected_list\": [],\n",
       "    \"missing_count\": 0,\n",
       "    \"missing_percent\": 0.0,\n",
       "    \"unexpected_percent_total\": 0.0,\n",
       "    \"unexpected_percent_nonmissing\": 0.0\n",
       "  },\n",
       "  \"meta\": {},\n",
       "  \"exception_info\": {\n",
       "    \"raised_exception\": false,\n",
       "    \"exception_traceback\": null,\n",
       "    \"exception_message\": null\n",
       "  }\n",
       "}"
      ]
     },
     "execution_count": 61,
     "metadata": {},
     "output_type": "execute_result"
    }
   ],
   "source": [
    "validator.expect_column_values_to_be_between(column=\"Floor\", min_value=0, max_value=100)\n",
    "validator.expect_column_values_to_not_be_null(column=\"Floor\")\n",
    "validator.expect_column_values_to_match_regex(column=\"Floor\", regex=\"^\\d+$\")"
   ]
  },
  {
   "attachments": {},
   "cell_type": "markdown",
   "metadata": {},
   "source": [
    "#### Expectation for column Move_in_date"
   ]
  },
  {
   "cell_type": "code",
   "execution_count": 62,
   "metadata": {},
   "outputs": [
    {
     "data": {
      "application/vnd.jupyter.widget-view+json": {
       "model_id": "92a1219b6d7d4fc483f86910f2bf60d3",
       "version_major": 2,
       "version_minor": 0
      },
      "text/plain": [
       "Calculating Metrics:   0%|          | 0/8 [00:00<?, ?it/s]"
      ]
     },
     "metadata": {},
     "output_type": "display_data"
    },
    {
     "data": {
      "application/vnd.jupyter.widget-view+json": {
       "model_id": "85387c668eba4ecc816e7b56bafb187a",
       "version_major": 2,
       "version_minor": 0
      },
      "text/plain": [
       "Calculating Metrics:   0%|          | 0/6 [00:00<?, ?it/s]"
      ]
     },
     "metadata": {},
     "output_type": "display_data"
    },
    {
     "data": {
      "application/vnd.jupyter.widget-view+json": {
       "model_id": "b1b314e29115402293f8b27b65d75a2a",
       "version_major": 2,
       "version_minor": 0
      },
      "text/plain": [
       "Calculating Metrics:   0%|          | 0/8 [00:00<?, ?it/s]"
      ]
     },
     "metadata": {},
     "output_type": "display_data"
    },
    {
     "data": {
      "text/plain": [
       "{\n",
       "  \"success\": false,\n",
       "  \"result\": {\n",
       "    \"element_count\": 62810,\n",
       "    \"unexpected_count\": 39033,\n",
       "    \"unexpected_percent\": 62.9341201509142,\n",
       "    \"partial_unexpected_list\": [\n",
       "      \"2021-09-02\",\n",
       "      \"2021-09-13\",\n",
       "      \"2021-10-08\",\n",
       "      \"2021-09-17\",\n",
       "      \"2021-10-05\",\n",
       "      \"2021-08-05\",\n",
       "      \"2021-09-14\",\n",
       "      \"2021-08-19\",\n",
       "      \"2021-09-29\",\n",
       "      \"2021-08-31\",\n",
       "      \"2021-08-04\",\n",
       "      \"2021-09-15\",\n",
       "      \"2021-07-21\",\n",
       "      \"2021-08-05\",\n",
       "      \"2021-07-30\",\n",
       "      \"2021-09-16\",\n",
       "      \"2021-08-05\",\n",
       "      \"2021-08-10\",\n",
       "      \"2021-08-17\",\n",
       "      \"2021-08-28\"\n",
       "    ],\n",
       "    \"missing_count\": 788,\n",
       "    \"missing_percent\": 1.2545772966088202,\n",
       "    \"unexpected_percent_total\": 62.14456296768031,\n",
       "    \"unexpected_percent_nonmissing\": 62.9341201509142\n",
       "  },\n",
       "  \"meta\": {},\n",
       "  \"exception_info\": {\n",
       "    \"raised_exception\": false,\n",
       "    \"exception_traceback\": null,\n",
       "    \"exception_message\": null\n",
       "  }\n",
       "}"
      ]
     },
     "execution_count": 62,
     "metadata": {},
     "output_type": "execute_result"
    }
   ],
   "source": [
    "validator.expect_column_values_to_match_strftime_format(column=\"Move_in_date\", strftime_format=\"%Y-%m-%d\")\n",
    "validator.expect_column_values_to_not_be_null(column=\"Move_in_date\")\n",
    "validator.expect_column_values_to_be_between(\n",
    "    column=\"Move_in_date\",\n",
    "    min_value=\"2021-06-25\",\n",
    "    max_value=\"2021-07-17\"\n",
    ")"
   ]
  },
  {
   "attachments": {},
   "cell_type": "markdown",
   "metadata": {},
   "source": [
    "#### Expectation for column unit_id"
   ]
  },
  {
   "cell_type": "code",
   "execution_count": 63,
   "metadata": {},
   "outputs": [
    {
     "data": {
      "application/vnd.jupyter.widget-view+json": {
       "model_id": "939c4effdb6e44ca8d8e290d60e95b69",
       "version_major": 2,
       "version_minor": 0
      },
      "text/plain": [
       "Calculating Metrics:   0%|          | 0/8 [00:00<?, ?it/s]"
      ]
     },
     "metadata": {},
     "output_type": "display_data"
    },
    {
     "data": {
      "application/vnd.jupyter.widget-view+json": {
       "model_id": "8dff8c80cf024a0c81eca06a408069bc",
       "version_major": 2,
       "version_minor": 0
      },
      "text/plain": [
       "Calculating Metrics:   0%|          | 0/6 [00:00<?, ?it/s]"
      ]
     },
     "metadata": {},
     "output_type": "display_data"
    },
    {
     "data": {
      "application/vnd.jupyter.widget-view+json": {
       "model_id": "8b0e5993bdbe4ce4b85f212ed3d0453b",
       "version_major": 2,
       "version_minor": 0
      },
      "text/plain": [
       "Calculating Metrics:   0%|          | 0/8 [00:00<?, ?it/s]"
      ]
     },
     "metadata": {},
     "output_type": "display_data"
    },
    {
     "data": {
      "text/plain": [
       "{\n",
       "  \"success\": false,\n",
       "  \"result\": {\n",
       "    \"element_count\": 62810,\n",
       "    \"unexpected_count\": 61921,\n",
       "    \"unexpected_percent\": 99.94028212660189,\n",
       "    \"partial_unexpected_list\": [\n",
       "      \"0507\",\n",
       "      \"0204\",\n",
       "      \"0608\",\n",
       "      \"256 \\r\\n\",\n",
       "      \"337 \\r\\n\",\n",
       "      \"423 \\r\\n\",\n",
       "      \"512 \\r\\n\",\n",
       "      \"812 \\r\\n\",\n",
       "      \"802 \\r\\n\",\n",
       "      \"0101\",\n",
       "      \"0306\",\n",
       "      \"0426\",\n",
       "      \"0831\",\n",
       "      \"0702\",\n",
       "      \"126 \\r\\n\",\n",
       "      \"131 \\r\\n\",\n",
       "      \"508 \\r\\n\",\n",
       "      \"1109\",\n",
       "      \"801 \\r\\n\",\n",
       "      \"817 \\r\\n\"\n",
       "    ],\n",
       "    \"missing_count\": 852,\n",
       "    \"missing_percent\": 1.3564718993790799,\n",
       "    \"unexpected_percent_total\": 98.58462028339436,\n",
       "    \"unexpected_percent_nonmissing\": 99.94028212660189\n",
       "  },\n",
       "  \"meta\": {},\n",
       "  \"exception_info\": {\n",
       "    \"raised_exception\": false,\n",
       "    \"exception_traceback\": null,\n",
       "    \"exception_message\": null\n",
       "  }\n",
       "}"
      ]
     },
     "execution_count": 63,
     "metadata": {},
     "output_type": "execute_result"
    }
   ],
   "source": [
    "validator.expect_column_values_to_match_regex(column=\"unit_id\", regex=\"^[a-zA-Z0-9]+$\")\n",
    "validator.expect_column_values_to_not_be_null(column=\"unit_id\")\n",
    "validator.expect_column_values_to_be_unique(column=\"unit_id\")"
   ]
  },
  {
   "attachments": {},
   "cell_type": "markdown",
   "metadata": {},
   "source": [
    "#### Save expectation suit"
   ]
  },
  {
   "cell_type": "code",
   "execution_count": 64,
   "metadata": {},
   "outputs": [],
   "source": [
    "validator.save_expectation_suite(discard_failed_expectations=False)\n",
    "context.build_data_docs()\n",
    "context.open_data_docs()"
   ]
  }
 ],
 "metadata": {
  "kernelspec": {
   "display_name": "venv",
   "language": "python",
   "name": "python3"
  },
  "language_info": {
   "codemirror_mode": {
    "name": "ipython",
    "version": 3
   },
   "file_extension": ".py",
   "mimetype": "text/x-python",
   "name": "python",
   "nbconvert_exporter": "python",
   "pygments_lexer": "ipython3",
   "version": "3.10.13"
  },
  "orig_nbformat": 4
 },
 "nbformat": 4,
 "nbformat_minor": 2
}
