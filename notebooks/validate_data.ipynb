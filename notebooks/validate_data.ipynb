{
 "cells": [
  {
   "cell_type": "code",
   "execution_count": 2,
   "metadata": {},
   "outputs": [],
   "source": [
    "import great_expectations as gx\n",
    "import pandas as pd\n",
    "from great_expectations.data_context import FileDataContext"
   ]
  },
  {
   "attachments": {},
   "cell_type": "markdown",
   "metadata": {},
   "source": [
    "## Create data context"
   ]
  },
  {
   "cell_type": "code",
   "execution_count": 11,
   "metadata": {},
   "outputs": [],
   "source": [
    "# context = gx.get_context()\n",
    "context = FileDataContext(project_root_dir=\"../services\")"
   ]
  },
  {
   "attachments": {},
   "cell_type": "markdown",
   "metadata": {},
   "source": [
    "## Create data source"
   ]
  },
  {
   "cell_type": "code",
   "execution_count": 12,
   "metadata": {},
   "outputs": [
    {
     "data": {
      "text/plain": [
       "PandasDatasource(type='pandas', name='my_pandas_ds', id=None, assets=[])"
      ]
     },
     "execution_count": 12,
     "metadata": {},
     "output_type": "execute_result"
    }
   ],
   "source": [
    "ds1 = context.sources.add_or_update_pandas(name=\"my_pandas_ds\")\n",
    "ds1"
   ]
  },
  {
   "attachments": {},
   "cell_type": "markdown",
   "metadata": {},
   "source": [
    "## Create data assets"
   ]
  },
  {
   "cell_type": "code",
   "execution_count": 13,
   "metadata": {},
   "outputs": [],
   "source": [
    "da1 = ds1.add_csv_asset(\n",
    "    name = \"asset01\",\n",
    "    filepath_or_buffer=\"../data/raw/Equity_Apartments_Data.csv\"\n",
    ")"
   ]
  },
  {
   "cell_type": "code",
   "execution_count": 14,
   "metadata": {},
   "outputs": [
    {
     "name": "stdout",
     "output_type": "stream",
     "text": [
      "{'reader_method': 'read_csv', 'reader_options': {'filepath_or_buffer': PosixPath('../data/raw/Equity_Apartments_Data.csv')}}\n"
     ]
    }
   ],
   "source": [
    "batch_request = da1.build_batch_request()\n",
    "batches = da1.get_batch_list_from_batch_request(batch_request)\n",
    "for batch in batches:\n",
    "    print(batch.batch_spec)"
   ]
  },
  {
   "cell_type": "code",
   "execution_count": 15,
   "metadata": {},
   "outputs": [
    {
     "data": {
      "text/plain": [
       "{\n",
       "  \"expectation_suite_name\": \"my_expectation_suite\",\n",
       "  \"ge_cloud_id\": null,\n",
       "  \"expectations\": [],\n",
       "  \"data_asset_type\": null,\n",
       "  \"meta\": {\n",
       "    \"great_expectations_version\": \"0.18.15\"\n",
       "  }\n",
       "}"
      ]
     },
     "execution_count": 15,
     "metadata": {},
     "output_type": "execute_result"
    }
   ],
   "source": [
    "context.add_or_update_expectation_suite(\"my_expectation_suite\")"
   ]
  },
  {
   "cell_type": "code",
   "execution_count": 17,
   "metadata": {},
   "outputs": [],
   "source": [
    "validator = context.get_validator(\n",
    "    batch_request=batch_request,\n",
    "    expectation_suite_name=\"my_expectation_suite\"\n",
    ")"
   ]
  },
  {
   "cell_type": "code",
   "execution_count": 18,
   "metadata": {},
   "outputs": [
    {
     "data": {
      "application/vnd.jupyter.widget-view+json": {
       "model_id": "b59a0ca06687492ba41d04eeef1f0355",
       "version_major": 2,
       "version_minor": 0
      },
      "text/plain": [
       "Calculating Metrics:   0%|          | 0/1 [00:00<?, ?it/s]"
      ]
     },
     "metadata": {},
     "output_type": "display_data"
    },
    {
     "data": {
      "text/html": [
       "<div>\n",
       "<style scoped>\n",
       "    .dataframe tbody tr th:only-of-type {\n",
       "        vertical-align: middle;\n",
       "    }\n",
       "\n",
       "    .dataframe tbody tr th {\n",
       "        vertical-align: top;\n",
       "    }\n",
       "\n",
       "    .dataframe thead th {\n",
       "        text-align: right;\n",
       "    }\n",
       "</style>\n",
       "<table border=\"1\" class=\"dataframe\">\n",
       "  <thead>\n",
       "    <tr style=\"text-align: right;\">\n",
       "      <th></th>\n",
       "      <th>Unnamed: 0</th>\n",
       "      <th>Price</th>\n",
       "      <th>Beds</th>\n",
       "      <th>Baths</th>\n",
       "      <th>sq.ft</th>\n",
       "      <th>Floor</th>\n",
       "      <th>Move_in_date</th>\n",
       "      <th>building_id</th>\n",
       "      <th>unit_id</th>\n",
       "      <th>URL</th>\n",
       "      <th>...</th>\n",
       "      <th>Fireplace</th>\n",
       "      <th>City_Skyline</th>\n",
       "      <th>Kitchen_Island</th>\n",
       "      <th>Stainless_Appliances</th>\n",
       "      <th>Renovated</th>\n",
       "      <th>Office_Space</th>\n",
       "      <th>Days_Till_Available</th>\n",
       "      <th>Day_of_the_week_recorded</th>\n",
       "      <th>Unique_ID</th>\n",
       "      <th>Estiamted_Vacancy</th>\n",
       "    </tr>\n",
       "  </thead>\n",
       "  <tbody>\n",
       "    <tr>\n",
       "      <th>0</th>\n",
       "      <td>1</td>\n",
       "      <td>2377</td>\n",
       "      <td>0</td>\n",
       "      <td>1.0</td>\n",
       "      <td>523</td>\n",
       "      <td>5</td>\n",
       "      <td>2021-09-02</td>\n",
       "      <td>01</td>\n",
       "      <td>0507</td>\n",
       "      <td>https://www.equityapartments.com/washington-dc...</td>\n",
       "      <td>...</td>\n",
       "      <td>0.0</td>\n",
       "      <td>0.0</td>\n",
       "      <td>0.0</td>\n",
       "      <td>1.0</td>\n",
       "      <td>1.0</td>\n",
       "      <td>0.0</td>\n",
       "      <td>47.0</td>\n",
       "      <td>Wednesday</td>\n",
       "      <td>0105071210MassApartments</td>\n",
       "      <td>0.020833</td>\n",
       "    </tr>\n",
       "    <tr>\n",
       "      <th>1</th>\n",
       "      <td>2</td>\n",
       "      <td>2816</td>\n",
       "      <td>1</td>\n",
       "      <td>1.0</td>\n",
       "      <td>713</td>\n",
       "      <td>2</td>\n",
       "      <td>2021-09-13</td>\n",
       "      <td>01</td>\n",
       "      <td>0204</td>\n",
       "      <td>https://www.equityapartments.com/washington-dc...</td>\n",
       "      <td>...</td>\n",
       "      <td>0.0</td>\n",
       "      <td>0.0</td>\n",
       "      <td>0.0</td>\n",
       "      <td>1.0</td>\n",
       "      <td>1.0</td>\n",
       "      <td>0.0</td>\n",
       "      <td>58.0</td>\n",
       "      <td>Wednesday</td>\n",
       "      <td>0102041210MassApartments</td>\n",
       "      <td>0.020833</td>\n",
       "    </tr>\n",
       "    <tr>\n",
       "      <th>2</th>\n",
       "      <td>3</td>\n",
       "      <td>3811</td>\n",
       "      <td>2</td>\n",
       "      <td>2.0</td>\n",
       "      <td>1252</td>\n",
       "      <td>6</td>\n",
       "      <td>2021-10-08</td>\n",
       "      <td>01</td>\n",
       "      <td>0608</td>\n",
       "      <td>https://www.equityapartments.com/washington-dc...</td>\n",
       "      <td>...</td>\n",
       "      <td>1.0</td>\n",
       "      <td>0.0</td>\n",
       "      <td>0.0</td>\n",
       "      <td>0.0</td>\n",
       "      <td>0.0</td>\n",
       "      <td>0.0</td>\n",
       "      <td>83.0</td>\n",
       "      <td>Wednesday</td>\n",
       "      <td>0106081210MassApartments</td>\n",
       "      <td>0.020833</td>\n",
       "    </tr>\n",
       "    <tr>\n",
       "      <th>3</th>\n",
       "      <td>4</td>\n",
       "      <td>1549</td>\n",
       "      <td>0</td>\n",
       "      <td>1.0</td>\n",
       "      <td>456</td>\n",
       "      <td>2</td>\n",
       "      <td>2021-09-17</td>\n",
       "      <td>1</td>\n",
       "      <td>256 \\r\\n</td>\n",
       "      <td>https://www.equityapartments.com/washington-dc...</td>\n",
       "      <td>...</td>\n",
       "      <td>0.0</td>\n",
       "      <td>0.0</td>\n",
       "      <td>0.0</td>\n",
       "      <td>0.0</td>\n",
       "      <td>0.0</td>\n",
       "      <td>0.0</td>\n",
       "      <td>62.0</td>\n",
       "      <td>Wednesday</td>\n",
       "      <td>1256\\r\\n1500MassApartments</td>\n",
       "      <td>0.003597</td>\n",
       "    </tr>\n",
       "    <tr>\n",
       "      <th>4</th>\n",
       "      <td>5</td>\n",
       "      <td>1753</td>\n",
       "      <td>1</td>\n",
       "      <td>1.0</td>\n",
       "      <td>580</td>\n",
       "      <td>3</td>\n",
       "      <td>2021-10-05</td>\n",
       "      <td>1</td>\n",
       "      <td>337 \\r\\n</td>\n",
       "      <td>https://www.equityapartments.com/washington-dc...</td>\n",
       "      <td>...</td>\n",
       "      <td>0.0</td>\n",
       "      <td>0.0</td>\n",
       "      <td>0.0</td>\n",
       "      <td>0.0</td>\n",
       "      <td>0.0</td>\n",
       "      <td>0.0</td>\n",
       "      <td>80.0</td>\n",
       "      <td>Wednesday</td>\n",
       "      <td>1337\\r\\n1500MassApartments</td>\n",
       "      <td>0.003597</td>\n",
       "    </tr>\n",
       "  </tbody>\n",
       "</table>\n",
       "<p>5 rows × 32 columns</p>\n",
       "</div>"
      ],
      "text/plain": [
       "   Unnamed: 0  Price  Beds  Baths  sq.ft  Floor Move_in_date building_id  \\\n",
       "0           1   2377     0    1.0    523      5   2021-09-02          01   \n",
       "1           2   2816     1    1.0    713      2   2021-09-13          01   \n",
       "2           3   3811     2    2.0   1252      6   2021-10-08          01   \n",
       "3           4   1549     0    1.0    456      2   2021-09-17           1   \n",
       "4           5   1753     1    1.0    580      3   2021-10-05           1   \n",
       "\n",
       "    unit_id                                                URL  ... Fireplace  \\\n",
       "0      0507  https://www.equityapartments.com/washington-dc...  ...       0.0   \n",
       "1      0204  https://www.equityapartments.com/washington-dc...  ...       0.0   \n",
       "2      0608  https://www.equityapartments.com/washington-dc...  ...       1.0   \n",
       "3  256 \\r\\n  https://www.equityapartments.com/washington-dc...  ...       0.0   \n",
       "4  337 \\r\\n  https://www.equityapartments.com/washington-dc...  ...       0.0   \n",
       "\n",
       "  City_Skyline Kitchen_Island Stainless_Appliances Renovated  Office_Space  \\\n",
       "0          0.0            0.0                  1.0       1.0           0.0   \n",
       "1          0.0            0.0                  1.0       1.0           0.0   \n",
       "2          0.0            0.0                  0.0       0.0           0.0   \n",
       "3          0.0            0.0                  0.0       0.0           0.0   \n",
       "4          0.0            0.0                  0.0       0.0           0.0   \n",
       "\n",
       "   Days_Till_Available  Day_of_the_week_recorded                   Unique_ID  \\\n",
       "0                 47.0                 Wednesday    0105071210MassApartments   \n",
       "1                 58.0                 Wednesday    0102041210MassApartments   \n",
       "2                 83.0                 Wednesday    0106081210MassApartments   \n",
       "3                 62.0                 Wednesday  1256\\r\\n1500MassApartments   \n",
       "4                 80.0                 Wednesday  1337\\r\\n1500MassApartments   \n",
       "\n",
       "   Estiamted_Vacancy  \n",
       "0           0.020833  \n",
       "1           0.020833  \n",
       "2           0.020833  \n",
       "3           0.003597  \n",
       "4           0.003597  \n",
       "\n",
       "[5 rows x 32 columns]"
      ]
     },
     "execution_count": 18,
     "metadata": {},
     "output_type": "execute_result"
    }
   ],
   "source": [
    "validator.head()"
   ]
  },
  {
   "cell_type": "code",
   "execution_count": 23,
   "metadata": {},
   "outputs": [
    {
     "data": {
      "application/vnd.jupyter.widget-view+json": {
       "model_id": "f9d628048222488eab4dcc057f55fbb2",
       "version_major": 2,
       "version_minor": 0
      },
      "text/plain": [
       "Calculating Metrics:   0%|          | 0/8 [00:00<?, ?it/s]"
      ]
     },
     "metadata": {},
     "output_type": "display_data"
    },
    {
     "data": {
      "text/plain": [
       "{\n",
       "  \"success\": false,\n",
       "  \"result\": {\n",
       "    \"element_count\": 62810,\n",
       "    \"unexpected_count\": 61807,\n",
       "    \"unexpected_percent\": 99.75628651667259,\n",
       "    \"partial_unexpected_list\": [\n",
       "      \"0105071210MassApartments\",\n",
       "      \"0102041210MassApartments\",\n",
       "      \"0106081210MassApartments\",\n",
       "      \"1256\\r\\n1500MassApartments\",\n",
       "      \"1337\\r\\n1500MassApartments\",\n",
       "      \"1423\\r\\n455EyeStreetApartments\",\n",
       "      \"1512\\r\\n455EyeStreetApartments\",\n",
       "      \"401812\\r\\n\\r\\n425MassApartments\",\n",
       "      \"401802\\r\\n\\r\\n425MassApartments\",\n",
       "      \"010101CorcoranHouseatDupontCircleApartments\",\n",
       "      \"010306CorcoranHouseatDupontCircleApartments\",\n",
       "      \"010426TheFlatsatDupontCircleApartments\",\n",
       "      \"010831TheFlatsatDupontCircleApartments\",\n",
       "      \"010702TheFlatsatDupontCircleApartments\",\n",
       "      \"001126\\r\\n\\r\\n2400MApartments\",\n",
       "      \"001131\\r\\n\\r\\n2400MApartments\",\n",
       "      \"001508\\r\\n\\r\\n2400MApartments\",\n",
       "      \"11109\\r\\n100KApartments\",\n",
       "      \"1801\\r\\n\\r\\n100KApartments\",\n",
       "      \"1817\\r\\n\\r\\n100KApartments\"\n",
       "    ],\n",
       "    \"missing_count\": 852,\n",
       "    \"missing_percent\": 1.3564718993790799,\n",
       "    \"unexpected_percent_total\": 98.40312052220985,\n",
       "    \"unexpected_percent_nonmissing\": 99.75628651667259\n",
       "  },\n",
       "  \"meta\": {},\n",
       "  \"exception_info\": {\n",
       "    \"raised_exception\": false,\n",
       "    \"exception_traceback\": null,\n",
       "    \"exception_message\": null\n",
       "  }\n",
       "}"
      ]
     },
     "execution_count": 23,
     "metadata": {},
     "output_type": "execute_result"
    }
   ],
   "source": [
    "ex1 = validator.expect_column_values_to_be_unique(\"Unique_ID\")\n",
    "ex1"
   ]
  },
  {
   "cell_type": "code",
   "execution_count": 24,
   "metadata": {},
   "outputs": [
    {
     "data": {
      "application/vnd.jupyter.widget-view+json": {
       "model_id": "9252cb7c79b04ba6af2588a1f26b3514",
       "version_major": 2,
       "version_minor": 0
      },
      "text/plain": [
       "Calculating Metrics:   0%|          | 0/8 [00:00<?, ?it/s]"
      ]
     },
     "metadata": {},
     "output_type": "display_data"
    },
    {
     "data": {
      "text/plain": [
       "{\n",
       "  \"success\": true,\n",
       "  \"result\": {\n",
       "    \"element_count\": 62810,\n",
       "    \"unexpected_count\": 0,\n",
       "    \"unexpected_percent\": 0.0,\n",
       "    \"partial_unexpected_list\": [],\n",
       "    \"missing_count\": 0,\n",
       "    \"missing_percent\": 0.0,\n",
       "    \"unexpected_percent_total\": 0.0,\n",
       "    \"unexpected_percent_nonmissing\": 0.0\n",
       "  },\n",
       "  \"meta\": {},\n",
       "  \"exception_info\": {\n",
       "    \"raised_exception\": false,\n",
       "    \"exception_traceback\": null,\n",
       "    \"exception_message\": null\n",
       "  }\n",
       "}"
      ]
     },
     "execution_count": 24,
     "metadata": {},
     "output_type": "execute_result"
    }
   ],
   "source": [
    "ex2 = validator.expect_column_values_to_be_between(\"Beds\", min_value=0, max_value=10)\n",
    "ex2"
   ]
  },
  {
   "cell_type": "code",
   "execution_count": 25,
   "metadata": {},
   "outputs": [
    {
     "data": {
      "application/vnd.jupyter.widget-view+json": {
       "model_id": "e96ab09efa334d39be8990b518c4efcc",
       "version_major": 2,
       "version_minor": 0
      },
      "text/plain": [
       "Calculating Metrics:   0%|          | 0/1 [00:00<?, ?it/s]"
      ]
     },
     "metadata": {},
     "output_type": "display_data"
    },
    {
     "data": {
      "text/html": [
       "<div>\n",
       "<style scoped>\n",
       "    .dataframe tbody tr th:only-of-type {\n",
       "        vertical-align: middle;\n",
       "    }\n",
       "\n",
       "    .dataframe tbody tr th {\n",
       "        vertical-align: top;\n",
       "    }\n",
       "\n",
       "    .dataframe thead th {\n",
       "        text-align: right;\n",
       "    }\n",
       "</style>\n",
       "<table border=\"1\" class=\"dataframe\">\n",
       "  <thead>\n",
       "    <tr style=\"text-align: right;\">\n",
       "      <th></th>\n",
       "      <th>Unnamed: 0</th>\n",
       "      <th>Price</th>\n",
       "      <th>Beds</th>\n",
       "      <th>Baths</th>\n",
       "      <th>sq.ft</th>\n",
       "      <th>Floor</th>\n",
       "      <th>Move_in_date</th>\n",
       "      <th>building_id</th>\n",
       "      <th>unit_id</th>\n",
       "      <th>URL</th>\n",
       "      <th>...</th>\n",
       "      <th>Fireplace</th>\n",
       "      <th>City_Skyline</th>\n",
       "      <th>Kitchen_Island</th>\n",
       "      <th>Stainless_Appliances</th>\n",
       "      <th>Renovated</th>\n",
       "      <th>Office_Space</th>\n",
       "      <th>Days_Till_Available</th>\n",
       "      <th>Day_of_the_week_recorded</th>\n",
       "      <th>Unique_ID</th>\n",
       "      <th>Estiamted_Vacancy</th>\n",
       "    </tr>\n",
       "  </thead>\n",
       "  <tbody>\n",
       "    <tr>\n",
       "      <th>0</th>\n",
       "      <td>1</td>\n",
       "      <td>2377</td>\n",
       "      <td>0</td>\n",
       "      <td>1.0</td>\n",
       "      <td>523</td>\n",
       "      <td>5</td>\n",
       "      <td>2021-09-02</td>\n",
       "      <td>01</td>\n",
       "      <td>0507</td>\n",
       "      <td>https://www.equityapartments.com/washington-dc...</td>\n",
       "      <td>...</td>\n",
       "      <td>0.0</td>\n",
       "      <td>0.0</td>\n",
       "      <td>0.0</td>\n",
       "      <td>1.0</td>\n",
       "      <td>1.0</td>\n",
       "      <td>0.0</td>\n",
       "      <td>47.0</td>\n",
       "      <td>Wednesday</td>\n",
       "      <td>0105071210MassApartments</td>\n",
       "      <td>0.020833</td>\n",
       "    </tr>\n",
       "    <tr>\n",
       "      <th>1</th>\n",
       "      <td>2</td>\n",
       "      <td>2816</td>\n",
       "      <td>1</td>\n",
       "      <td>1.0</td>\n",
       "      <td>713</td>\n",
       "      <td>2</td>\n",
       "      <td>2021-09-13</td>\n",
       "      <td>01</td>\n",
       "      <td>0204</td>\n",
       "      <td>https://www.equityapartments.com/washington-dc...</td>\n",
       "      <td>...</td>\n",
       "      <td>0.0</td>\n",
       "      <td>0.0</td>\n",
       "      <td>0.0</td>\n",
       "      <td>1.0</td>\n",
       "      <td>1.0</td>\n",
       "      <td>0.0</td>\n",
       "      <td>58.0</td>\n",
       "      <td>Wednesday</td>\n",
       "      <td>0102041210MassApartments</td>\n",
       "      <td>0.020833</td>\n",
       "    </tr>\n",
       "    <tr>\n",
       "      <th>2</th>\n",
       "      <td>3</td>\n",
       "      <td>3811</td>\n",
       "      <td>2</td>\n",
       "      <td>2.0</td>\n",
       "      <td>1252</td>\n",
       "      <td>6</td>\n",
       "      <td>2021-10-08</td>\n",
       "      <td>01</td>\n",
       "      <td>0608</td>\n",
       "      <td>https://www.equityapartments.com/washington-dc...</td>\n",
       "      <td>...</td>\n",
       "      <td>1.0</td>\n",
       "      <td>0.0</td>\n",
       "      <td>0.0</td>\n",
       "      <td>0.0</td>\n",
       "      <td>0.0</td>\n",
       "      <td>0.0</td>\n",
       "      <td>83.0</td>\n",
       "      <td>Wednesday</td>\n",
       "      <td>0106081210MassApartments</td>\n",
       "      <td>0.020833</td>\n",
       "    </tr>\n",
       "    <tr>\n",
       "      <th>3</th>\n",
       "      <td>4</td>\n",
       "      <td>1549</td>\n",
       "      <td>0</td>\n",
       "      <td>1.0</td>\n",
       "      <td>456</td>\n",
       "      <td>2</td>\n",
       "      <td>2021-09-17</td>\n",
       "      <td>1</td>\n",
       "      <td>256 \\r\\n</td>\n",
       "      <td>https://www.equityapartments.com/washington-dc...</td>\n",
       "      <td>...</td>\n",
       "      <td>0.0</td>\n",
       "      <td>0.0</td>\n",
       "      <td>0.0</td>\n",
       "      <td>0.0</td>\n",
       "      <td>0.0</td>\n",
       "      <td>0.0</td>\n",
       "      <td>62.0</td>\n",
       "      <td>Wednesday</td>\n",
       "      <td>1256\\r\\n1500MassApartments</td>\n",
       "      <td>0.003597</td>\n",
       "    </tr>\n",
       "    <tr>\n",
       "      <th>4</th>\n",
       "      <td>5</td>\n",
       "      <td>1753</td>\n",
       "      <td>1</td>\n",
       "      <td>1.0</td>\n",
       "      <td>580</td>\n",
       "      <td>3</td>\n",
       "      <td>2021-10-05</td>\n",
       "      <td>1</td>\n",
       "      <td>337 \\r\\n</td>\n",
       "      <td>https://www.equityapartments.com/washington-dc...</td>\n",
       "      <td>...</td>\n",
       "      <td>0.0</td>\n",
       "      <td>0.0</td>\n",
       "      <td>0.0</td>\n",
       "      <td>0.0</td>\n",
       "      <td>0.0</td>\n",
       "      <td>0.0</td>\n",
       "      <td>80.0</td>\n",
       "      <td>Wednesday</td>\n",
       "      <td>1337\\r\\n1500MassApartments</td>\n",
       "      <td>0.003597</td>\n",
       "    </tr>\n",
       "  </tbody>\n",
       "</table>\n",
       "<p>5 rows × 32 columns</p>\n",
       "</div>"
      ],
      "text/plain": [
       "   Unnamed: 0  Price  Beds  Baths  sq.ft  Floor Move_in_date building_id  \\\n",
       "0           1   2377     0    1.0    523      5   2021-09-02          01   \n",
       "1           2   2816     1    1.0    713      2   2021-09-13          01   \n",
       "2           3   3811     2    2.0   1252      6   2021-10-08          01   \n",
       "3           4   1549     0    1.0    456      2   2021-09-17           1   \n",
       "4           5   1753     1    1.0    580      3   2021-10-05           1   \n",
       "\n",
       "    unit_id                                                URL  ... Fireplace  \\\n",
       "0      0507  https://www.equityapartments.com/washington-dc...  ...       0.0   \n",
       "1      0204  https://www.equityapartments.com/washington-dc...  ...       0.0   \n",
       "2      0608  https://www.equityapartments.com/washington-dc...  ...       1.0   \n",
       "3  256 \\r\\n  https://www.equityapartments.com/washington-dc...  ...       0.0   \n",
       "4  337 \\r\\n  https://www.equityapartments.com/washington-dc...  ...       0.0   \n",
       "\n",
       "  City_Skyline Kitchen_Island Stainless_Appliances Renovated  Office_Space  \\\n",
       "0          0.0            0.0                  1.0       1.0           0.0   \n",
       "1          0.0            0.0                  1.0       1.0           0.0   \n",
       "2          0.0            0.0                  0.0       0.0           0.0   \n",
       "3          0.0            0.0                  0.0       0.0           0.0   \n",
       "4          0.0            0.0                  0.0       0.0           0.0   \n",
       "\n",
       "   Days_Till_Available  Day_of_the_week_recorded                   Unique_ID  \\\n",
       "0                 47.0                 Wednesday    0105071210MassApartments   \n",
       "1                 58.0                 Wednesday    0102041210MassApartments   \n",
       "2                 83.0                 Wednesday    0106081210MassApartments   \n",
       "3                 62.0                 Wednesday  1256\\r\\n1500MassApartments   \n",
       "4                 80.0                 Wednesday  1337\\r\\n1500MassApartments   \n",
       "\n",
       "   Estiamted_Vacancy  \n",
       "0           0.020833  \n",
       "1           0.020833  \n",
       "2           0.020833  \n",
       "3           0.003597  \n",
       "4           0.003597  \n",
       "\n",
       "[5 rows x 32 columns]"
      ]
     },
     "execution_count": 25,
     "metadata": {},
     "output_type": "execute_result"
    }
   ],
   "source": [
    "validator.head()"
   ]
  },
  {
   "cell_type": "code",
   "execution_count": 21,
   "metadata": {},
   "outputs": [],
   "source": [
    "# validator.save_expectation_suite(\"my_expectation_suite\")"
   ]
  },
  {
   "cell_type": "code",
   "execution_count": 26,
   "metadata": {},
   "outputs": [],
   "source": [
    "validator.save_expectation_suite(discard_failed_expectations=False)"
   ]
  },
  {
   "cell_type": "code",
   "execution_count": 27,
   "metadata": {},
   "outputs": [
    {
     "data": {
      "text/plain": [
       "<bound method Validator.get_expectation_suite of <great_expectations.validator.validator.Validator object at 0x168d3c940>>"
      ]
     },
     "execution_count": 27,
     "metadata": {},
     "output_type": "execute_result"
    }
   ],
   "source": [
    "validator.get_expectation_suite"
   ]
  },
  {
   "cell_type": "code",
   "execution_count": 28,
   "metadata": {},
   "outputs": [
    {
     "data": {
      "text/plain": [
       "{\n",
       "  \"action_list\": [\n",
       "    {\n",
       "      \"name\": \"store_validation_result\",\n",
       "      \"action\": {\n",
       "        \"class_name\": \"StoreValidationResultAction\"\n",
       "      }\n",
       "    },\n",
       "    {\n",
       "      \"name\": \"store_evaluation_params\",\n",
       "      \"action\": {\n",
       "        \"class_name\": \"StoreEvaluationParametersAction\"\n",
       "      }\n",
       "    },\n",
       "    {\n",
       "      \"name\": \"update_data_docs\",\n",
       "      \"action\": {\n",
       "        \"class_name\": \"UpdateDataDocsAction\"\n",
       "      }\n",
       "    }\n",
       "  ],\n",
       "  \"batch_request\": {},\n",
       "  \"class_name\": \"Checkpoint\",\n",
       "  \"config_version\": 1.0,\n",
       "  \"evaluation_parameters\": {},\n",
       "  \"module_name\": \"great_expectations.checkpoint\",\n",
       "  \"name\": \"initial_data_validation_checkpoint\",\n",
       "  \"profilers\": [],\n",
       "  \"runtime_configuration\": {},\n",
       "  \"validations\": [\n",
       "    {\n",
       "      \"batch_request\": {\n",
       "        \"datasource_name\": \"my_pandas_ds\",\n",
       "        \"data_asset_name\": \"asset01\",\n",
       "        \"options\": {}\n",
       "      },\n",
       "      \"expectation_suite_name\": \"my_expectation_suite\"\n",
       "    }\n",
       "  ]\n",
       "}"
      ]
     },
     "execution_count": 28,
     "metadata": {},
     "output_type": "execute_result"
    }
   ],
   "source": [
    "checkpoint = context.add_or_update_checkpoint(\n",
    "    name = \"initial_data_validation_checkpoint\",\n",
    "    validations=[\n",
    "        {\n",
    "            \"batch_request\":batch_request,\n",
    "            \"expectation_suite_name\" : \"my_expectation_suite\"\n",
    "        }\n",
    "    ]\n",
    ")\n",
    "checkpoint"
   ]
  },
  {
   "cell_type": "code",
   "execution_count": 29,
   "metadata": {},
   "outputs": [
    {
     "data": {
      "application/vnd.jupyter.widget-view+json": {
       "model_id": "b923cb0675514b79a5ad02694449d8f2",
       "version_major": 2,
       "version_minor": 0
      },
      "text/plain": [
       "Calculating Metrics:   0%|          | 0/17 [00:00<?, ?it/s]"
      ]
     },
     "metadata": {},
     "output_type": "display_data"
    }
   ],
   "source": [
    "checkpoint_result = checkpoint.run()"
   ]
  },
  {
   "cell_type": "code",
   "execution_count": 30,
   "metadata": {},
   "outputs": [
    {
     "data": {
      "text/plain": [
       "False"
      ]
     },
     "execution_count": 30,
     "metadata": {},
     "output_type": "execute_result"
    }
   ],
   "source": [
    "checkpoint_result.success"
   ]
  },
  {
   "cell_type": "code",
   "execution_count": 31,
   "metadata": {},
   "outputs": [
    {
     "data": {
      "text/plain": [
       "'/Users/ninelco/Documents/MLOps/ApartmentPrice/notebooks/../services/gx/expectations/my_expectation_suite.json'"
      ]
     },
     "execution_count": 31,
     "metadata": {},
     "output_type": "execute_result"
    }
   ],
   "source": [
    "mysuite = context.get_expectation_suite(\"my_expectation_suite\")\n",
    "context.save_expectation_suite(mysuite)"
   ]
  },
  {
   "attachments": {},
   "cell_type": "markdown",
   "metadata": {},
   "source": [
    "### Present validation results"
   ]
  },
  {
   "cell_type": "code",
   "execution_count": 32,
   "metadata": {},
   "outputs": [
    {
     "data": {
      "text/plain": [
       "{'local_site': 'file:///Users/ninelco/Documents/MLOps/ApartmentPrice/notebooks/../services/gx/uncommitted/data_docs/local_site/index.html'}"
      ]
     },
     "execution_count": 32,
     "metadata": {},
     "output_type": "execute_result"
    }
   ],
   "source": [
    "context.build_data_docs()"
   ]
  },
  {
   "cell_type": "code",
   "execution_count": 33,
   "metadata": {},
   "outputs": [],
   "source": [
    "context.open_data_docs()"
   ]
  }
 ],
 "metadata": {
  "kernelspec": {
   "display_name": "venv",
   "language": "python",
   "name": "python3"
  },
  "language_info": {
   "codemirror_mode": {
    "name": "ipython",
    "version": 3
   },
   "file_extension": ".py",
   "mimetype": "text/x-python",
   "name": "python",
   "nbconvert_exporter": "python",
   "pygments_lexer": "ipython3",
   "version": "3.10.13"
  },
  "orig_nbformat": 4
 },
 "nbformat": 4,
 "nbformat_minor": 2
}
